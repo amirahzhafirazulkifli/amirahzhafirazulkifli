{
  "nbformat": 4,
  "nbformat_minor": 0,
  "metadata": {
    "colab": {
      "name": "Lab5.ipynb",
      "provenance": [],
      "collapsed_sections": [],
      "authorship_tag": "ABX9TyNNdMaoYFw3Y7cKpjoxSMV8",
      "include_colab_link": true
    },
    "kernelspec": {
      "display_name": "Python 3",
      "name": "python3"
    },
    "language_info": {
      "name": "python"
    }
  },
  "cells": [
    {
      "cell_type": "markdown",
      "metadata": {
        "id": "view-in-github",
        "colab_type": "text"
      },
      "source": [
        "<a href=\"https://colab.research.google.com/github/amirahzhafirazulkifli/amirahzhafirazulkifli/blob/main/Lab5.ipynb\" target=\"_parent\"><img src=\"https://colab.research.google.com/assets/colab-badge.svg\" alt=\"Open In Colab\"/></a>"
      ]
    },
    {
      "cell_type": "code",
      "metadata": {
        "id": "_fDgMAXzym8H"
      },
      "source": [
        "def checkPalindrome(wordslist): #check palindrome\n",
        "  ans=\"\"\n",
        "  listans=[]\n",
        "  for i in wordslist:\n",
        "\n",
        "    if i==i[::-1]: #reverse every words syntax\n",
        "      ans=  \"Yep!\"\n",
        "    else:\n",
        "      ans= \"Nope!\"\n",
        "    listans.append(ans)\n",
        "  return wordslist, listans\n",
        "\n",
        "#main\n",
        "\n",
        "list1 = [\"madam\", \"katak\", \"nun\", \"teacher\", \"mom\", \"dad\", \"pen\", \"lit\", \"sis\", \"boy\", \"girl\", \"papa\", \"mama\",\"bro\", \"phone\", \"laptop\", \"pop\",\"oil\", \"food\", \"car\" ]\n",
        "l1,l2= checkPalindrome(list1)\n",
        "\n",
        "for val in range(len(l1)):  #print one by one\n",
        "  print(l1[val],\": \", l2[val])\n"
      ],
      "execution_count": null,
      "outputs": []
    },
    {
      "cell_type": "code",
      "metadata": {
        "id": "kRlQd0n29B7A"
      },
      "source": [
        "#check prime\n",
        "import random \n",
        "\n",
        "def checkPrime(numberlist):\n",
        "  ans=\"\"\n",
        "  listans=[]\n",
        "  for i in numberlist:\n",
        "    if i > 1:\n",
        "      for j in range(2,i):\n",
        "        if i % j == 0:\n",
        "          ans =\"not prime\"\n",
        "          break\n",
        "        else:\n",
        "          ans=\"prime\"\n",
        "    else: #number=1 \n",
        "      ans= \"not prime\"\n",
        "    listans.append(ans)\n",
        "  return numberlist, listans \n",
        "\n",
        "#main\n",
        "\n",
        "listnum=[]\n",
        "for x in range(0,20):\n",
        "  num=random.randint(1,10000)\n",
        "  listnum.append(num)\n",
        "\n",
        "l1,l2 = checkPrime(listnum)\n",
        "#print(l1,l2)\n",
        "index=0  #print one by one\n",
        "for val in l1:\n",
        "  print(val, l2[index])\n",
        "  index= index+1"
      ],
      "execution_count": null,
      "outputs": []
    },
    {
      "cell_type": "code",
      "metadata": {
        "id": "B0WEzLAv9Jhx"
      },
      "source": [
        "#upper and lower case\n",
        "\n",
        "def checkUpperLower(sentList):\n",
        "  listlower=[]\n",
        "  listupper=[]\n",
        "\n",
        "  for sentence in sentList:\n",
        "    lower=0\n",
        "    upper=0 \n",
        "    for char in sentence: #check every character in a sentence\n",
        "    \n",
        "      if char.isupper():\n",
        "        upper=upper+1\n",
        "\n",
        "      elif char.islower():\n",
        "        lower=lower+1\n",
        "\n",
        "    listupper.append(upper)\n",
        "    listlower.append(lower)\n",
        "      \n",
        "  return sentList, listupper, listlower\n",
        "\n",
        "\n",
        "#main\n",
        "listsen=[\"The quick Brow Fox\", \"My Name is Mira\", \"I am from Pahang\", \"I have three brothers\", \"i have no sister\", \"I LOVE CATS\", \"i love programming\", \"I love kpop\", \"I love Bigbang\",\"I like BLUE colour\"]\n",
        "sent,l1,l2 = checkUpperLower(listsen)\n",
        "\n",
        "index=0  #print one by one\n",
        "for val in sent:\n",
        "  print(\"Sentence: \", val, \"\\nTotal upper case: \", l1[index], \"\\nTotal lower case: \", l2[index], \"\\n\")\n",
        "  index=index+1\n",
        "\n",
        "\n"
      ],
      "execution_count": null,
      "outputs": []
    },
    {
      "cell_type": "code",
      "metadata": {
        "colab": {
          "base_uri": "https://localhost:8080/"
        },
        "id": "jFsp-Jm1BK4Y",
        "outputId": "d9b47500-a5b4-4a26-a280-bfe1a9ff2154"
      },
      "source": [
        "import re \n",
        "\n",
        "#Write a Python program to find all five characters long word in a string\n",
        "\n",
        "txt= \"'The quick brown fox jumps over the lazy dog\"\n",
        "\n",
        "x=re.findall(r\"\\b[A-Za-z]{4}\\b\",txt)\n",
        "print(\"Words that have five characters long: \", x)\n"
      ],
      "execution_count": 4,
      "outputs": [
        {
          "output_type": "stream",
          "text": [
            "Words that have five characters long:  ['over', 'lazy']\n"
          ],
          "name": "stdout"
        }
      ]
    },
    {
      "cell_type": "code",
      "metadata": {
        "id": "YNMHr7t4W_dE",
        "colab": {
          "base_uri": "https://localhost:8080/"
        },
        "outputId": "42df6634-f826-46d3-9be9-d6a30e46f13a"
      },
      "source": [
        "import re\n",
        "\n",
        "txt= \"Microsoft Corp. today announced its “Bersama Malaysia” (Together with Malaysia) initiative, which marks a significant commitment to empowering Malaysia’s inclusive digital economy and advancing the nation’s digital transformation across the private and public sectors. As part of the plan, Microsoft will establish its first datacenter region in the country to deliver trusted cloud services locally, with world-class data security, privacy, and the ability to store data in-country. Microsoft also announced plans to skill an additional 1 million Malaysians by end of 2023 to help create economic opportunities for people and businesses in the digital era.\"\n",
        "\n",
        "#Write a Python program to find all words starting with 'a' or 'e' in a given string.  Store the results in a list and print them.\n",
        "\n",
        "\n",
        "x=re.findall(r\"\\ba\\w+\",txt) \n",
        "y=re.findall(r\"\\be\\w+\",txt)\n",
        "\n",
        "list1= x+y #join 2 list\n",
        "print(\"Words start with a or e: \", list1)\n",
        "print()\n",
        "#Write a Python program to find all three, four, five characters long words in a string. \n",
        "\n",
        "i=re.findall(r\"\\b[A-Za-z-]{3}\\b\",txt)\n",
        "j=re.findall(r\"\\b[A-Za-z-]{4}\\b\",txt)\n",
        "k=re.findall(r\"\\b[A-Za-z-]{5}\\b\",txt)\n",
        "\n",
        "list2= i+j+k\n",
        "#store in one list\n",
        "print(\"Words with three, four, five characters long: \", list2)\n",
        "#seperate in three different list\n",
        "print()\n",
        "print(\"Words with three characters long: \", i)\n",
        "print()\n",
        "print(\"Words with four characters long: \", j)\n",
        "print()\n",
        "print(\"Words with five characters long: \", k)\n"
      ],
      "execution_count": 52,
      "outputs": [
        {
          "output_type": "stream",
          "text": [
            "Words start with a or e:  ['announced', 'and', 'advancing', 'across', 'and', 'and', 'ability', 'also', 'announced', 'an', 'additional', 'and', 'empowering', 'economy', 'establish', 'end', 'economic', 'era']\n",
            "\n",
            "Words with three, four, five characters long:  ['its', 'and', 'the', 'the', 'and', 'the', 'its', 'the', 'and', 'the', 'in-', 'end', 'for', 'and', 'the', 'era', 'Corp', 'with', 'part', 'plan', 'will', 'with', 'data', 'data', 'also', 'help', 'today', 'which', 'marks', 'first', 'cloud', 'world', 'class', 'store', 'plans', 'skill']\n",
            "\n",
            "Words with three characters long:  ['its', 'and', 'the', 'the', 'and', 'the', 'its', 'the', 'and', 'the', 'in-', 'end', 'for', 'and', 'the', 'era']\n",
            "\n",
            "Words with four characters long:  ['Corp', 'with', 'part', 'plan', 'will', 'with', 'data', 'data', 'also', 'help']\n",
            "\n",
            "Words with five characters long:  ['today', 'which', 'marks', 'first', 'cloud', 'world', 'class', 'store', 'plans', 'skill']\n"
          ],
          "name": "stdout"
        }
      ]
    },
    {
      "cell_type": "code",
      "metadata": {
        "colab": {
          "base_uri": "https://localhost:8080/"
        },
        "id": "2KnvJAGYd2WC",
        "outputId": "70411c80-750d-4417-c4ea-afd61b670527"
      },
      "source": [
        "import re\n",
        "txt=\"a5554444\"\n",
        "#pentingboundry\n",
        "\n",
        "x= re.search(r\"\\b[a-zA-Z]{1}[0-9]{7}\\b\",txt)\n",
        "print(x)"
      ],
      "execution_count": null,
      "outputs": [
        {
          "output_type": "stream",
          "text": [
            "<re.Match object; span=(0, 8), match='a5554444'>\n"
          ],
          "name": "stdout"
        }
      ]
    },
    {
      "cell_type": "code",
      "metadata": {
        "colab": {
          "background_save": true
        },
        "id": "8Wtn9qptjIA8"
      },
      "source": [
        "mylist = \"katak\"\n",
        "\n",
        "for x in range(len(mylist)):\n",
        "  print(x, mylist[x])\n",
        "\n",
        "for x in range(0,-6,-1):\n",
        "  print (x, mylist[x])"
      ],
      "execution_count": null,
      "outputs": []
    }
  ]
}