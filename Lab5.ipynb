{
  "nbformat": 4,
  "nbformat_minor": 0,
  "metadata": {
    "colab": {
      "name": "Lab5.ipynb",
      "provenance": [],
      "authorship_tag": "ABX9TyPGO+se8SBGvoEp2C//M8N1",
      "include_colab_link": true
    },
    "kernelspec": {
      "display_name": "Python 3",
      "name": "python3"
    },
    "language_info": {
      "name": "python"
    }
  },
  "cells": [
    {
      "cell_type": "markdown",
      "metadata": {
        "id": "view-in-github",
        "colab_type": "text"
      },
      "source": [
        "<a href=\"https://colab.research.google.com/github/amirahzhafirazulkifli/amirahzhafirazulkifli/blob/main/Lab5.ipynb\" target=\"_parent\"><img src=\"https://colab.research.google.com/assets/colab-badge.svg\" alt=\"Open In Colab\"/></a>"
      ]
    },
    {
      "cell_type": "code",
      "metadata": {
        "id": "_fDgMAXzym8H",
        "colab": {
          "base_uri": "https://localhost:8080/"
        },
        "outputId": "040bcee6-caa1-4d96-8480-2fffa33e1d8f"
      },
      "source": [
        "\n",
        "def checkPalindrome(words): #check palindrome\n",
        "  ans=\"\"\n",
        "  listans=[]\n",
        "  for i in words:\n",
        "\n",
        "    if i==i[::-1]:\n",
        "      ans=  \"Yep!\"\n",
        "    else:\n",
        "      ans= \"Nope!\"\n",
        "    listans.append(ans)\n",
        "  return words, listans\n",
        "\n",
        "   \n",
        "list1 = [\"madam\", \"katak\", \"nun\", \"teacher\", \"mom\", \"dad\", \"pen\", \"lit\", \"sis\", \"boy\", \"girl\", \"papa\", \"mama\",\"bro\", \"phone\", \"laptop\", \"pop\",\"oil\", \"food\", \"car\" ]\n",
        "l1,l2= checkPalindrome(list1)\n",
        "\n",
        "for val in range(len(l1)):\n",
        "  print(l1[val],\": \", l2[val])\n",
        "\n",
        "\n",
        "    \n"
      ],
      "execution_count": 1,
      "outputs": [
        {
          "output_type": "stream",
          "text": [
            "madam :  Yep!\n",
            "katak :  Yep!\n",
            "nun :  Yep!\n",
            "teacher :  Nope!\n",
            "mom :  Yep!\n",
            "dad :  Yep!\n",
            "pen :  Nope!\n",
            "lit :  Nope!\n",
            "sis :  Yep!\n",
            "boy :  Nope!\n",
            "girl :  Nope!\n",
            "papa :  Nope!\n",
            "mama :  Nope!\n",
            "bro :  Nope!\n",
            "phone :  Nope!\n",
            "laptop :  Nope!\n",
            "pop :  Yep!\n",
            "oil :  Nope!\n",
            "food :  Nope!\n",
            "car :  Nope!\n"
          ],
          "name": "stdout"
        }
      ]
    },
    {
      "cell_type": "code",
      "metadata": {
        "id": "R7nV4Hw454R7"
      },
      "source": [
        "#check prime\n",
        "import random \n",
        "\n",
        "def checkPrime(number):\n",
        "  ans=\"\"\n",
        "  listans=[]\n",
        "  for i in number:\n",
        "    if i > 1:\n",
        "      for j in range(2,i):\n",
        "        if i % j == 0:\n",
        "          ans =\"not prime\"\n",
        "          break\n",
        "        else:\n",
        "          ans=\"prime\"\n",
        "    else: #number=1 \n",
        "      ans= \"not prime\"\n",
        "    listans.append(ans)\n",
        "  return number, listans \n",
        "\n",
        "listnum=[]\n",
        "for x in range(0,20):\n",
        "  num=random.randint(1,10000)\n",
        "  listnum.append(num)\n",
        "\n",
        "l1,l2 = checkPrime(listnum)\n",
        "\n",
        "index=0\n",
        "for val in l1:\n",
        "  print(val, l2[index])\n",
        "  index= index+1\n",
        "\n"
      ],
      "execution_count": null,
      "outputs": []
    },
    {
      "cell_type": "code",
      "metadata": {
        "id": "DJ9dENLuXPaA"
      },
      "source": [
        "#upper and lower case\n",
        "\n"
      ],
      "execution_count": null,
      "outputs": []
    },
    {
      "cell_type": "code",
      "metadata": {
        "colab": {
          "base_uri": "https://localhost:8080/"
        },
        "id": "jFsp-Jm1BK4Y",
        "outputId": "defbbd7b-d3bf-4a2c-e3d5-65da44d80a87"
      },
      "source": [
        "import re \n",
        "\n",
        "#Write a Python program to find all five characters long word in a string\n",
        "\n",
        "txt= \"'The quick brown fox jumps over the lazy dog\"\n",
        "\n",
        "x=re.findall(r\"\\b[A-Za-z]{4}\\b\",txt)\n",
        "print(x)\n"
      ],
      "execution_count": 5,
      "outputs": [
        {
          "output_type": "stream",
          "text": [
            "['over', 'lazy']\n"
          ],
          "name": "stdout"
        }
      ]
    },
    {
      "cell_type": "code",
      "metadata": {
        "id": "YNMHr7t4W_dE"
      },
      "source": [
        "txt= \"Microsoft Corp. today announced its “Bersama Malaysia” (Together with Malaysia) initiative, which marks a significant commitment to empowering Malaysia’s inclusive digital economy and advancing the nation’s digital transformation across the private and public sectors. As part of the plan, Microsoft will establish its first datacenter region in the country to deliver trusted cloud services locally, with world-class data security, privacy, and the ability to store data in-country. Microsoft also announced plans to skill an additional 1 million Malaysians by end of 2023 to help create economic opportunities for people and businesses in the digital era.\"\n",
        "\n",
        "##find all words starting with 'a' or 'e' in a given string.  Store the results in a list and print them.\n",
        "\n",
        "\n",
        "\n"
      ],
      "execution_count": null,
      "outputs": []
    },
    {
      "cell_type": "code",
      "metadata": {
        "colab": {
          "base_uri": "https://localhost:8080/"
        },
        "id": "2KnvJAGYd2WC",
        "outputId": "70411c80-750d-4417-c4ea-afd61b670527"
      },
      "source": [
        "import re\n",
        "txt=\"a5554444\"\n",
        "#pentingboundry\n",
        "\n",
        "x= re.search(r\"\\b[a-zA-Z]{1}[0-9]{7}\\b\",txt)\n",
        "print(x)"
      ],
      "execution_count": null,
      "outputs": [
        {
          "output_type": "stream",
          "text": [
            "<re.Match object; span=(0, 8), match='a5554444'>\n"
          ],
          "name": "stdout"
        }
      ]
    },
    {
      "cell_type": "code",
      "metadata": {
        "colab": {
          "background_save": true,
          "base_uri": "https://localhost:8080/"
        },
        "id": "8Wtn9qptjIA8",
        "outputId": "e5332276-c510-4362-ee10-775cc29781c7"
      },
      "source": [
        "mylist = \"katak\"\n",
        "\n",
        "for x in range(len(mylist)):\n",
        "  print(x, mylist[x])\n",
        "\n",
        "for x in range(0,-6,-1):\n",
        "  print (x, mylist[x])"
      ],
      "execution_count": null,
      "outputs": [
        {
          "output_type": "stream",
          "text": [
            "0 k\n",
            "1 a\n",
            "2 t\n",
            "3 a\n",
            "4 k\n",
            "0 k\n",
            "-1 k\n",
            "-2 a\n",
            "-3 t\n",
            "-4 a\n",
            "-5 k\n"
          ],
          "name": "stdout"
        }
      ]
    }
  ]
}