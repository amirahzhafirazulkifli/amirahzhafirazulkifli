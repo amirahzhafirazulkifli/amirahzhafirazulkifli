{
  "nbformat": 4,
  "nbformat_minor": 0,
  "metadata": {
    "colab": {
      "name": "Lab5.ipynb",
      "provenance": [],
      "authorship_tag": "ABX9TyPjuX8zpl+O23K9sJnviIXf",
      "include_colab_link": true
    },
    "kernelspec": {
      "name": "python3",
      "display_name": "Python 3"
    },
    "language_info": {
      "name": "python"
    }
  },
  "cells": [
    {
      "cell_type": "markdown",
      "metadata": {
        "id": "view-in-github",
        "colab_type": "text"
      },
      "source": [
        "<a href=\"https://colab.research.google.com/github/amirahzhafirazulkifli/amirahzhafirazulkifli/blob/main/Lab5.ipynb\" target=\"_parent\"><img src=\"https://colab.research.google.com/assets/colab-badge.svg\" alt=\"Open In Colab\"/></a>"
      ]
    },
    {
      "cell_type": "code",
      "metadata": {
        "colab": {
          "base_uri": "https://localhost:8080/"
        },
        "id": "jFsp-Jm1BK4Y",
        "outputId": "b2d4d90e-7e65-4102-fe63-8863ef23d9ce"
      },
      "source": [
        "import re \n",
        "\n",
        "#Write a Python program to find all five characters long word in a string\n",
        "\n",
        "txt= \"'The quick brown fox jumps over the lazy dog\"\n",
        "\n",
        "x=re.findall(r\"\\b[A-Za-z]{4}\\b\",txt)\n",
        "print(x)\n"
      ],
      "execution_count": 13,
      "outputs": [
        {
          "output_type": "stream",
          "text": [
            "['over', 'lazy']\n"
          ],
          "name": "stdout"
        }
      ]
    },
    {
      "cell_type": "code",
      "metadata": {
        "id": "YNMHr7t4W_dE"
      },
      "source": [
        "txt= \"Microsoft Corp. today announced its “Bersama Malaysia” (Together with Malaysia) initiative, which marks a significant commitment to empowering Malaysia’s inclusive digital economy and advancing the nation’s digital transformation across the private and public sectors. As part of the plan, Microsoft will establish its first datacenter region in the country to deliver trusted cloud services locally, with world-class data security, privacy, and the ability to store data in-country. Microsoft also announced plans to skill an additional 1 million Malaysians by end of 2023 to help create economic opportunities for people and businesses in the digital era.\"\n",
        "\n",
        "#Write a Python program to find all words starting with 'a' or 'e' in a given string.  Store the results in a list and print them.\n",
        "\n",
        "\n",
        "\n"
      ],
      "execution_count": null,
      "outputs": []
    },
    {
      "cell_type": "code",
      "metadata": {
        "colab": {
          "base_uri": "https://localhost:8080/"
        },
        "id": "2KnvJAGYd2WC",
        "outputId": "70411c80-750d-4417-c4ea-afd61b670527"
      },
      "source": [
        "import re\n",
        "txt=\"a5554444\"\n",
        "#pentingboundry\n",
        "\n",
        "x= re.search(r\"\\b[a-zA-Z]{1}[0-9]{7}\\b\",txt)\n",
        "print(x)"
      ],
      "execution_count": 23,
      "outputs": [
        {
          "output_type": "stream",
          "text": [
            "<re.Match object; span=(0, 8), match='a5554444'>\n"
          ],
          "name": "stdout"
        }
      ]
    },
    {
      "cell_type": "code",
      "metadata": {
        "colab": {
          "base_uri": "https://localhost:8080/"
        },
        "id": "8Wtn9qptjIA8",
        "outputId": "2bcf918f-666f-4524-8168-fa8560551b44"
      },
      "source": [
        "mylist = \"katak\"\n",
        "\n",
        "for x in range(len(mylist)):\n",
        "  print(x, mylist[x])\n",
        "\n",
        "#compare 2 list"
      ],
      "execution_count": 37,
      "outputs": [
        {
          "output_type": "stream",
          "text": [
            "0 k\n",
            "-1 k\n",
            "-2 a\n",
            "-3 t\n",
            "-4 a\n",
            "-5 k\n"
          ],
          "name": "stdout"
        }
      ]
    }
  ]
}