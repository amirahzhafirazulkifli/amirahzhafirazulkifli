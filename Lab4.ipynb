{
  "nbformat": 4,
  "nbformat_minor": 0,
  "metadata": {
    "colab": {
      "name": "Lab4.ipynb",
      "provenance": [],
      "authorship_tag": "ABX9TyMZD6pOdEFPdwPVI06DNXDh",
      "include_colab_link": true
    },
    "kernelspec": {
      "name": "python3",
      "display_name": "Python 3"
    },
    "language_info": {
      "name": "python"
    }
  },
  "cells": [
    {
      "cell_type": "markdown",
      "metadata": {
        "id": "view-in-github",
        "colab_type": "text"
      },
      "source": [
        "<a href=\"https://colab.research.google.com/github/amirahzhafirazulkifli/amirahzhafirazulkifli/blob/main/Lab4.ipynb\" target=\"_parent\"><img src=\"https://colab.research.google.com/assets/colab-badge.svg\" alt=\"Open In Colab\"/></a>"
      ]
    },
    {
      "cell_type": "code",
      "metadata": {
        "colab": {
          "base_uri": "https://localhost:8080/"
        },
        "id": "2XT13g52084H",
        "outputId": "b54925b8-6919-4b7b-8ebd-35959bba7d1e"
      },
      "source": [
        "def functionPN(upper=2): # default value for no arguments then take default value\n",
        "  list1=[]\n",
        "  for num in range(2, upper + 1):\n",
        "    if num > 1:\n",
        "      for i in range(2, num):\n",
        "        if num% i == 0:\n",
        "          break\n",
        "      else:\n",
        "        list1.append(num) #to store many values!!!!\n",
        "  return list1\n",
        "  \n",
        "#main\n",
        "a=functionPN(10)\n",
        "print(a)\n",
        "b=functionPN()\n",
        "print(b)\n",
        "c=functionPN(15)\n",
        "print(c)\n",
        "\n"
      ],
      "execution_count": null,
      "outputs": [
        {
          "output_type": "stream",
          "text": [
            "[2, 3, 5, 7]\n",
            "[2]\n",
            "[2, 3, 5, 7, 11, 13]\n"
          ],
          "name": "stdout"
        }
      ]
    },
    {
      "cell_type": "code",
      "metadata": {
        "id": "1kW1jqqnF5KQ",
        "colab": {
          "base_uri": "https://localhost:8080/"
        },
        "outputId": "2856999f-6b85-4bb2-b4e4-7b7df437ebf0"
      },
      "source": [
        "def friendname(*name): #arbituray parameter\n",
        "  list1=[]\n",
        "  if len(name)==0:\n",
        "    return \"nobody\"\n",
        "  else: \n",
        "    list1.append(name)\n",
        "    return list1\n",
        "\n",
        "\n",
        "onefriend= friendname(\"azlina\") \n",
        "print(\"My friend(s):\" , onefriend)\n",
        "twofriend = friendname(\"Syafiq\", \"asyraf\")\n",
        "print(\"My friend(s):\" , twofriend)\n",
        "threefriend = (friendname(\"xa\",\"ya\",\"za\"))\n",
        "print(\"My friend(s):\", threefriend)\n",
        "nofriend = (friendname())\n",
        "print(\"My friend(s):\", nofriend)\n"
      ],
      "execution_count": null,
      "outputs": [
        {
          "output_type": "stream",
          "text": [
            "My friend(s): [('azlina',)]\n",
            "My friend(s): [('Syafiq', 'asyraf')]\n",
            "My friend(s): [('xa', 'ya', 'za')]\n",
            "My friend(s): nobody\n"
          ],
          "name": "stdout"
        }
      ]
    },
    {
      "cell_type": "code",
      "metadata": {
        "colab": {
          "base_uri": "https://localhost:8080/"
        },
        "id": "QrqyacwBTGOg",
        "outputId": "30f79aa9-0d66-44a3-b739-61546e4f2421"
      },
      "source": [
        "chars = 'abcdefghijklmnopqrstuvwxyz'\n",
        "string = 'thequickbrownfoxjumpsoverthelazydog'\n",
        "\n",
        "# function \n",
        "def countChar (text):\n",
        "  charX = []\n",
        "  num = []\n",
        "  for i in chars:\n",
        "    c = text.count(i)\n",
        "    #print(i,c)\n",
        "    if c > 1:\n",
        "      charX.append(i)\n",
        "      num.append(c)\n",
        "  return charX,num\n",
        "  \n",
        "l1, l2=(countChar(string))\n",
        "print(l1,l2)\n",
        "\n",
        "#onebyone\n",
        "index=0\n",
        "for val in l1:\n",
        "  print(val, l2[index])\n",
        "  #print(val)\n",
        "  index+=1\n",
        "print()\n",
        "#onebyne\n",
        "for i in range(len(l1)):\n",
        "  print(l1[i], l2[i])"
      ],
      "execution_count": null,
      "outputs": [
        {
          "output_type": "stream",
          "text": [
            "['e', 'h', 'o', 'r', 't', 'u'] [3, 2, 4, 2, 2, 2]\n",
            "e 3\n",
            "h 2\n",
            "o 4\n",
            "r 2\n",
            "t 2\n",
            "u 2\n",
            "\n",
            "e 3\n",
            "h 2\n",
            "o 4\n",
            "r 2\n",
            "t 2\n",
            "u 2\n"
          ],
          "name": "stdout"
        }
      ]
    },
    {
      "cell_type": "code",
      "metadata": {
        "colab": {
          "base_uri": "https://localhost:8080/"
        },
        "id": "M_DoiqNk8gts",
        "outputId": "21bf4ab7-1702-4a78-dee5-0f5af5eef858"
      },
      "source": [
        "sample= \"thequickbrownfoxjumpsoverthelazydog\"\n",
        "\n",
        "def countRepeated(samplestring, char): #want to check certain character\n",
        "  count=0\n",
        "  for i in samplestring:\n",
        "    if i == char:\n",
        "      count= count +1\n",
        "  return (char, count)\n",
        "\n",
        "#main\n",
        "o= countRepeated(sample, \"o\")\n",
        "print(o)\n",
        "e= countRepeated(sample, \"e\")\n",
        "print(e)\n",
        "u= countRepeated(sample, \"u\")\n",
        "print(u)\n",
        "h= countRepeated(sample, \"h\")\n",
        "print(h)\n",
        "r= countRepeated(sample, \"r\")\n",
        "print(r)\n",
        "t= countRepeated(sample, \"t\")\n",
        "print(t)"
      ],
      "execution_count": null,
      "outputs": [
        {
          "output_type": "stream",
          "text": [
            "('o', 4)\n",
            "('e', 3)\n",
            "('u', 2)\n",
            "('h', 2)\n",
            "('r', 2)\n",
            "('t', 2)\n"
          ],
          "name": "stdout"
        }
      ]
    },
    {
      "cell_type": "code",
      "metadata": {
        "colab": {
          "base_uri": "https://localhost:8080/"
        },
        "id": "WEo9bAPzVkRP",
        "outputId": "ca388a4c-0f45-4e0e-9bcf-84a68bddfdbc"
      },
      "source": [
        "l1= ['Red', 100, -50, 'green', 'w,3,r', 12.12, False]\n",
        "\n",
        "mylist=[]\n",
        "for i in l1:\n",
        "  if (type(i) !=str):\n",
        "    mylist.append(str(i))\n",
        "\n",
        "  else:\n",
        "    mylist.append(i)\n",
        "\n",
        "print(mylist)\n",
        "print(\"new list: \", l1)\n",
        "\n",
        "x= \",\".join(mylist)\n",
        "print(x)\n",
        "\n",
        "#join them\n",
        "#print(l1)"
      ],
      "execution_count": null,
      "outputs": [
        {
          "output_type": "stream",
          "text": [
            "['Red', '100', '-50', 'green', 'w,3,r', '12.12', 'False']\n",
            "new list:  ['Red', 100, -50, 'green', 'w,3,r', 12.12, False]\n",
            "Red,100,-50,green,w,3,r,12.12,False\n"
          ],
          "name": "stdout"
        }
      ]
    },
    {
      "cell_type": "code",
      "metadata": {
        "colab": {
          "base_uri": "https://localhost:8080/"
        },
        "id": "L3wgxJGycRi-",
        "outputId": "fec98d2c-6978-419c-8b6b-c983330491b8"
      },
      "source": [
        "myTuple = (1,3,\"John\", \"Peter\", \"Vicky\",10.3,890000)\n",
        "\n",
        "list1=[]\n",
        "for i in myTuple:\n",
        " print(i)\n",
        " if (type(i) != str):\n",
        "   list1.append(str(i))\n",
        " else:\n",
        "  list1.append(i)\n",
        " \n",
        " #join them\n",
        "print(myTuple)\n",
        "print(\"new list!!\")\n",
        "print(list1)\n",
        "\n",
        "\n",
        "x = \" \".join(list1)\n",
        "print(x)\n",
        "print(type(x))\n"
      ],
      "execution_count": null,
      "outputs": [
        {
          "output_type": "stream",
          "text": [
            "1\n",
            "3\n",
            "John\n",
            "Peter\n",
            "Vicky\n",
            "10.3\n",
            "890000\n",
            "(1, 3, 'John', 'Peter', 'Vicky', 10.3, 890000)\n",
            "new list!!\n",
            "['1', '3', 'John', 'Peter', 'Vicky', '10.3', '890000']\n",
            "1 3 John Peter Vicky 10.3 890000\n",
            "<class 'str'>\n"
          ],
          "name": "stdout"
        }
      ]
    },
    {
      "cell_type": "code",
      "metadata": {
        "colab": {
          "base_uri": "https://localhost:8080/"
        },
        "id": "CwnJX44nef4F",
        "outputId": "7454411d-8c5a-43e4-b2db-519567eb2321"
      },
      "source": [
        "#**zip\n",
        "\n",
        "num = [1,\"b\",3]\n",
        "chars= [\"a\", 2, \"c\"]\n",
        "\n",
        "for (a, b) in zip (num, chars):\n",
        "  print (a,b)"
      ],
      "execution_count": null,
      "outputs": [
        {
          "output_type": "stream",
          "text": [
            "1 a\n",
            "b 2\n",
            "3 c\n"
          ],
          "name": "stdout"
        }
      ]
    }
  ]
}