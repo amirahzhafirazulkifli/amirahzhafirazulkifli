{
  "nbformat": 4,
  "nbformat_minor": 0,
  "metadata": {
    "colab": {
      "name": "Lab2.ipynb",
      "provenance": [],
      "authorship_tag": "ABX9TyPjtrcL1xo7WMzacMbCL3aM",
      "include_colab_link": true
    },
    "kernelspec": {
      "name": "python3",
      "display_name": "Python 3"
    },
    "language_info": {
      "name": "python"
    }
  },
  "cells": [
    {
      "cell_type": "markdown",
      "metadata": {
        "id": "view-in-github",
        "colab_type": "text"
      },
      "source": [
        "<a href=\"https://colab.research.google.com/github/amirahzhafirazulkifli/amirahzhafirazulkifli/blob/main/Lab2.ipynb\" target=\"_parent\"><img src=\"https://colab.research.google.com/assets/colab-badge.svg\" alt=\"Open In Colab\"/></a>"
      ]
    },
    {
      "cell_type": "code",
      "metadata": {
        "id": "Stnl8lEoIsCr"
      },
      "source": [
        "for i in range (1,11):\n",
        "  print(i)"
      ],
      "execution_count": null,
      "outputs": []
    },
    {
      "cell_type": "code",
      "metadata": {
        "id": "N0d94umlJpIC"
      },
      "source": [
        "for i in range(1,1001):\n",
        "  print(i)"
      ],
      "execution_count": null,
      "outputs": []
    },
    {
      "cell_type": "code",
      "metadata": {
        "colab": {
          "base_uri": "https://localhost:8080/",
          "height": 545
        },
        "id": "_0c7xdRhKww2",
        "outputId": "9d569020-78c3-4b50-e3e8-8567f3512799"
      },
      "source": [
        "import random\n",
        " \n",
        "list1 = []\n",
        "list2 =[]\n",
        "list3 = []\n",
        " \n",
        "#function1- update list\n",
        "#function2- sum list\n",
        "#function3- find avg\n",
        "#function4 - find highest and lowest\n",
        "#funtion5 - find num smaller than avg\n",
        " \n",
        "def update (mylist):\n",
        "  for x in range(1,11):\n",
        "    mylist.append(random.randrange(1,50))\n",
        " \n",
        "def getsum (mylist):\n",
        "  return sum(mylist)\n",
        " \n",
        "def getavg (sumval,length):\n",
        "  avg=sumval/length\n",
        "  return avg\n",
        " \n",
        "def getmax (mylist):\n",
        "  return max(mylist)\n",
        " \n",
        "def getmin (mylist):\n",
        "  return min(mylist)\n",
        " \n",
        "def getsmallval (avgval,mylist):\n",
        "\n",
        "  return [x for x in mylist if x <avgval]\n",
        "\n",
        "print(list1)\n",
        "update(list1)\n",
        "total1=getsum(list1)\n",
        "average1=getavg(total1,len(list1))\n",
        "maxi1=getmax(list1)\n",
        "mini1=getmin(list1)\n",
        "smallvalue1=getsmallval(average1, list1)\n",
        "print(\" List 1: \", list1,\"\\n\",\"Total:\", total1,\"\\n\",\"Average: \", average1,\n",
        "      \"\\n\",\"Maximum Value:\", maxi1, \"\\n\", \"Minimum Value: \", mini1,\n",
        "      \"\\n\", \"Smaller value than average: \" , smallvalue1)\n",
        "print(\"\\n\")\n",
        " \n",
        "print(list2)\n",
        "update(list2)\n",
        "total2=getsum(list2)\n",
        "average2=getavg(total2,len(list2))\n",
        "maxi2=getmax(list2)\n",
        "mini2=getmin(list2)\n",
        "smallvalue2=getsmallval(average2, list2)\n",
        "print(\" List 2: \", list2,\"\\n\",\"Total:\", total2,\"\\n\",\"Average: \", average2,\n",
        "      \"\\n\",\"Maximum Value:\", maxi2, \"\\n\", \"Minimum Value: \", mini2,\n",
        "      \"\\n\", \"Smaller value than average: \" , smallvalue2)\n",
        " \n",
        "print(\"\\n\")\n",
        "\n",
        "print(list3)\n",
        "update(list3)\n",
        "total3=getsum(list3)\n",
        "average3=getavg(total3,len(list3))\n",
        "maxi3=getmax(list3)\n",
        "mini3=getmin(list3)\n",
        "smallvalue3=getsmallval(average3, list3)\n",
        "print(\" List 3: \", list3,\"\\n\",\"Total:\", total3,\"\\n\",\"Average: \", average3,\n",
        "      \"\\n\",\"Maximum Value:\", maxi3, \"\\n\", \"Minimum Value: \", mini3,\n",
        "      \"\\n\", \"Smaller value than average: \" , smallvalue3)\n",
        "\n",
        "print(\"\\n\")\n",
        "\n",
        "#below is without function\n",
        "'''total = sum(list1)\n",
        "print(total)'''\n",
        " \n",
        "'''avg= total / len(list1)\n",
        "print(\"The average for the random list is\" , avg)\n",
        " \n",
        "maxi = max(list1)\n",
        "print(\"Highest: \", maxi)\n",
        " \n",
        "mini = min(list1)\n",
        "print(\"Lowest: \",mini)\n",
        " \n",
        "for i in list1:\n",
        "  if i < avg :\n",
        "    print(\"Value less than average\", i)\n",
        " \n",
        "for i in list1:\n",
        "  if i > avg :\n",
        "    print(\"Value more than average\", i) '''"
      ],
      "execution_count": 18,
      "outputs": [
        {
          "output_type": "stream",
          "text": [
            "[]\n",
            " List 1:  [28, 13, 34, 8, 12, 28, 32, 32, 1, 7] \n",
            " Total: 195 \n",
            " Average:  19.5 \n",
            " Maximum Value: 34 \n",
            " Minimum Value:  1 \n",
            " Smaller value than average:  [13, 8, 12, 1, 7]\n",
            "\n",
            "\n",
            "[]\n",
            " List 2:  [10, 30, 49, 17, 4, 7, 27, 41, 18, 17] \n",
            " Total: 220 \n",
            " Average:  22.0 \n",
            " Maximum Value: 49 \n",
            " Minimum Value:  4 \n",
            " Smaller value than average:  [10, 17, 4, 7, 18, 17]\n",
            "\n",
            "\n",
            "[]\n",
            " List 3:  [26, 24, 35, 47, 40, 46, 1, 3, 48, 39] \n",
            " Total: 309 \n",
            " Average:  30.9 \n",
            " Maximum Value: 48 \n",
            " Minimum Value:  1 \n",
            " Smaller value than average:  [26, 24, 1, 3]\n",
            "\n",
            "\n"
          ],
          "name": "stdout"
        },
        {
          "output_type": "execute_result",
          "data": {
            "application/vnd.google.colaboratory.intrinsic+json": {
              "type": "string"
            },
            "text/plain": [
              "'avg= total / len(list1)\\nprint(\"The average for the random list is\" , avg)\\n \\nmaxi = max(list1)\\nprint(\"Highest: \", maxi)\\n \\nmini = min(list1)\\nprint(\"Lowest: \",mini)\\n \\nfor i in list1:\\n  if i < avg :\\n    print(\"Value less than average\", i)\\n \\nfor i in list1:\\n  if i > avg :\\n    print(\"Value more than average\", i) '"
            ]
          },
          "metadata": {
            "tags": []
          },
          "execution_count": 18
        }
      ]
    },
    {
      "cell_type": "code",
      "metadata": {
        "id": "KDm9xnnJMxEf",
        "colab": {
          "base_uri": "https://localhost:8080/",
          "height": 123
        },
        "outputId": "6cef9411-865b-4a4c-b626-38bd328cd166"
      },
      "source": [
        "num1 = input(\"Enter num1:\")\n",
        "print(\"Number is: \" + num1)\n",
        "\n",
        "num2 = input(\"Enter num2:\")\n",
        "print(\"Number is: \" + num2)\n",
        "\n",
        "def findBigger(n1,n2):\n",
        "  if n1>n2:\n",
        "    return \"Bigger value is: \", n1\n",
        "  else:\n",
        "    return \"Bigger value is: \", n2\n",
        "\n",
        "x=findBigger(int(num1), int(num2))\n",
        "print(x)\n",
        "\n",
        "\n",
        "\n",
        "'''\n",
        "if int(num1)> int(num2):\n",
        "  print(\"The bigger value is num1: \" , num1)\n",
        "\n",
        "else :\n",
        "  print(\"The bigger value is num2: \", num2)\n",
        "\n",
        "'''"
      ],
      "execution_count": 30,
      "outputs": [
        {
          "output_type": "stream",
          "text": [
            "Enter num1:1\n",
            "Number is: 1\n",
            "Enter num2:3\n",
            "Number is: 3\n",
            "('Bigger value is: ', 3)\n"
          ],
          "name": "stdout"
        },
        {
          "output_type": "execute_result",
          "data": {
            "application/vnd.google.colaboratory.intrinsic+json": {
              "type": "string"
            },
            "text/plain": [
              "'\\nif int(num1)> int(num2):\\n  print(\"The bigger value is num1: \" , num1)\\n\\nelse :\\n  print(\"The bigger value is num2: \", num2)\\n\\n'"
            ]
          },
          "metadata": {
            "tags": []
          },
          "execution_count": 30
        }
      ]
    },
    {
      "cell_type": "code",
      "metadata": {
        "colab": {
          "base_uri": "https://localhost:8080/"
        },
        "id": "wV629DjSQKKt",
        "outputId": "a0aedf19-ce4b-46c7-c190-1bf67ea1d714"
      },
      "source": [
        "myname= input(\"Enter my name: \")\n",
        "print(\"My name is: \", myname)\n",
        "\n",
        "VOWEL= \"aeiouAEIOU\"\n",
        "def countVowel(name):\n",
        "  sum=0\n",
        "  for i in name:\n",
        "    print(i) \n",
        "\n",
        "    if i in VOWEL:\n",
        "      sum=sum+1\n",
        "  print(sum)\n",
        "\n",
        "  ratio = sum/len(name)\n",
        "    return ratio  \n",
        "  \n",
        "\n",
        "countVowel(myname)"
      ],
      "execution_count": 39,
      "outputs": [
        {
          "output_type": "stream",
          "text": [
            "Enter my name: mira\n",
            "My name is:  mira\n",
            "m\n",
            "i\n",
            "r\n",
            "a\n",
            "2\n"
          ],
          "name": "stdout"
        },
        {
          "output_type": "execute_result",
          "data": {
            "text/plain": [
              "0.5"
            ]
          },
          "metadata": {
            "tags": []
          },
          "execution_count": 39
        }
      ]
    },
    {
      "cell_type": "code",
      "metadata": {
        "colab": {
          "base_uri": "https://localhost:8080/"
        },
        "id": "9kf3NcMzWWb1",
        "outputId": "95292dbb-9b97-4a95-d885-210ba815da84"
      },
      "source": [
        "list1=['mira', 'mir', 'miya', 'mura', 'mura']\n",
        "list2=[10000, 1, 100, 1000, 10]\n",
        "\n",
        "for i in range(len(list1)):\n",
        "  print(list1[i], list2[i])\n",
        "\n",
        "def maxmin(name, wages):\n",
        "  maxi= wages.index(max(wages))\n",
        "  mini= wages.index(min(wages))\n",
        "  maxival= wages[maxi]\n",
        "  maxiname=name[maxi]\n",
        "  minival=wages[mini]\n",
        "  mininame=name[mini]\n",
        "  return print(\" Maximum name: \", maxiname, \"\\n\",\"Maximum val: \", maxival, \n",
        "          \"\\n\",\"Minimum name: \" , mininame , \"\\n\", \"Minimum val: \",  minival)\n",
        "\n",
        "\n",
        "def avg(wages):\n",
        "  for i in wages:\n",
        "    total=sum(wages)\n",
        "\n",
        "  average= total/len(wages)\n",
        "  return average\n",
        "\n",
        "def belowabove(avgval, name, wages):\n",
        "  for i in wages:\n",
        "    if i<avgval:\n",
        "      smallerinfo=wages.index(i)\n",
        "      print(\"Smaller than average: \", name[smallerinfo], wages[smallerinfo])\n",
        "  for j in wages:\n",
        "    if j>avgval:\n",
        "      biggerinfo=wages.index(j)\n",
        "      print(\"Bigger than average: \", name[biggerinfo], wages[biggerinfo])\n",
        "\n",
        "  #return print(\"Value below average: \", [i for i in wages if i <avgval],\n",
        "   #            \"\\nValue above average: \", [j for j in wages if j>avgval])\n",
        "\n",
        "\n",
        "maxmin(list1, list2)\n",
        "average=avg(list2)\n",
        "print(\"Average value is: \", average)\n",
        "belowabove(average,list1,list2)\n",
        "\n"
      ],
      "execution_count": 168,
      "outputs": [
        {
          "output_type": "stream",
          "text": [
            "mira 10000\n",
            "mir 1\n",
            "miya 100\n",
            "mura 1000\n",
            "mura 10\n",
            " Maximum name:  mira \n",
            " Maximum val:  10000 \n",
            " Minimum name:  mir \n",
            " Minimum val:  1\n",
            "Average value is:  2222.2\n",
            "Smaller than average:  mir 1\n",
            "Smaller than average:  miya 100\n",
            "Smaller than average:  mura 1000\n",
            "Smaller than average:  mura 10\n",
            "Bigger than average:  mira 10000\n"
          ],
          "name": "stdout"
        }
      ]
    },
    {
      "cell_type": "code",
      "metadata": {
        "id": "Uwnvirg8NdI_"
      },
      "source": [
        ""
      ],
      "execution_count": null,
      "outputs": []
    }
  ]
}