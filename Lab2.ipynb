{
  "nbformat": 4,
  "nbformat_minor": 0,
  "metadata": {
    "colab": {
      "name": "Lab2.ipynb",
      "provenance": [],
      "authorship_tag": "ABX9TyMwEe+1IpIGzwnQ8OZEx+Ce",
      "include_colab_link": true
    },
    "kernelspec": {
      "name": "python3",
      "display_name": "Python 3"
    },
    "language_info": {
      "name": "python"
    }
  },
  "cells": [
    {
      "cell_type": "markdown",
      "metadata": {
        "id": "view-in-github",
        "colab_type": "text"
      },
      "source": [
        "<a href=\"https://colab.research.google.com/github/amirahzhafirazulkifli/amirahzhafirazulkifli/blob/main/Lab2.ipynb\" target=\"_parent\"><img src=\"https://colab.research.google.com/assets/colab-badge.svg\" alt=\"Open In Colab\"/></a>"
      ]
    },
    {
      "cell_type": "code",
      "metadata": {
        "id": "Stnl8lEoIsCr"
      },
      "source": [
        "for i in range (1,11):\n",
        "  print(i)"
      ],
      "execution_count": null,
      "outputs": []
    },
    {
      "cell_type": "code",
      "metadata": {
        "id": "N0d94umlJpIC"
      },
      "source": [
        "for i in range(1,1001):\n",
        "  print(i)"
      ],
      "execution_count": null,
      "outputs": []
    },
    {
      "cell_type": "code",
      "metadata": {
        "colab": {
          "base_uri": "https://localhost:8080/",
          "height": 503
        },
        "id": "_0c7xdRhKww2",
        "outputId": "8552659b-fef5-4068-bf77-25cadd2bbc7d"
      },
      "source": [
        "import random\n",
        "\n",
        "list1 = []\n",
        "list2 =[]\n",
        "list3 = []\n",
        "\n",
        "#function1- update list\n",
        "#function2- sum list\n",
        "#function3- find avg\n",
        "#function4 - find highest and lowest\n",
        "#funtion5 - find num smaller than avg\n",
        "\n",
        "def update (mylist):\n",
        "  for x in range(1,11):\n",
        "    mylist.append(random.randrange(1,50))\n",
        "\n",
        "def getsum (mylist):\n",
        "  return sum(mylist)\n",
        "\n",
        "def getavg (sumval,length):\n",
        "  avg=sumval/length\n",
        "  return avg\n",
        "\n",
        "def getmax (mylist):\n",
        "  return max(mylist)\n",
        "\n",
        "def getmin(mylist):\n",
        "  return min(mylist)\n",
        "\n",
        "def getsmallval(mylist, avgval):\n",
        "  return [x for x in mylist if x <avgval]\n",
        "\n",
        "print(list1)\n",
        "update(list1)\n",
        "total1=getsum(list1)\n",
        "average1=getavg(total1,len(list1))\n",
        "maxi1=getmax(list1)\n",
        "mini1=getmin(list1)\n",
        "smallvalue1=getsmallval(list1,average)\n",
        "print(\"List 1: \", list1,\"\\n\",\"Total:\", total1,\"\\n\",\"Average: \", average1,\n",
        "      \"\\n\",\"Maximum Value:\", maxi1, \"\\n\", \"Minimum Value: \", mini1,\n",
        "      \"\\n\", \"Smaller value than average: \" , smallvalue1)\n",
        "\n",
        "print(\"\\n\")\n",
        "\n",
        "print(list2)\n",
        "update(list2)\n",
        "total2=getsum(list2)\n",
        "average2=getavg(total2,len(list2))\n",
        "maxi2=getmax(list2)\n",
        "mini2=getmin(list2)\n",
        "smallvalue2=getsmallval(list2,average)\n",
        "print(\"List 2: \", list2,\"\\n\",\"Total:\", total2,\"\\n\",\"Average: \", average2,\n",
        "      \"\\n\",\"Maximum Value:\", maxi2, \"\\n\", \"Minimum Value: \", mini2,\n",
        "      \"\\n\", \"Smaller value than average: \" , smallvalue2)\n",
        "\n",
        "print(\"\\n\")\n",
        "\n",
        "print(list3)\n",
        "update(list3)\n",
        "total3=getsum(list3)\n",
        "average3=getavg(total3,len(list3))\n",
        "maxi3=getmax(list3)\n",
        "mini3=getmin(list3)\n",
        "smallvalue3=getsmallval(list3,average)\n",
        "print(\"List 3: \", list3,\"\\n\",\"Total:\", total3,\"\\n\",\"Average: \", average3,\n",
        "      \"\\n\",\"Maximum Value:\", maxi3, \"\\n\", \"Minimum Value: \", mini3,\n",
        "      \"\\n\", \"Smaller value than average: \" , smallvalue3)\n",
        "\n",
        "#below is without function\n",
        "'''total = sum(list1)\n",
        "print(total)'''\n",
        "\n",
        "'''avg= total / len(list1)\n",
        "print(\"The average for the random list is\" , avg)\n",
        "\n",
        "maxi = max(list1)\n",
        "print(\"Highest: \", maxi)\n",
        "\n",
        "mini = min(list1)\n",
        "print(\"Lowest: \",mini)\n",
        "\n",
        "for i in list1:\n",
        "  if i < avg :\n",
        "    print(\"Value less than average\", i)\n",
        "\n",
        "for i in list1:\n",
        "  if i > avg :\n",
        "    print(\"Value more than average\", i) '''"
      ],
      "execution_count": 34,
      "outputs": [
        {
          "output_type": "stream",
          "text": [
            "[]\n",
            "List 1:  [43, 4, 38, 30, 29, 22, 3, 18, 17, 35] \n",
            " Total: 239 \n",
            " Average:  23.9 \n",
            " Maximum Value: 43 \n",
            " Minimum Value:  3 \n",
            " Smaller value than average:  [4, 22, 3, 18, 17]\n",
            "\n",
            "\n",
            "[]\n",
            "List 2:  [48, 3, 14, 19, 12, 47, 31, 37, 37, 7] \n",
            " Total: 255 \n",
            " Average:  25.5 \n",
            " Maximum Value: 48 \n",
            " Minimum Value:  3 \n",
            " Smaller value than average:  [3, 14, 19, 12, 7]\n",
            "\n",
            "\n",
            "[]\n",
            "List 3:  [9, 27, 19, 11, 8, 43, 43, 6, 17, 22] \n",
            " Total: 205 \n",
            " Average:  20.5 \n",
            " Maximum Value: 43 \n",
            " Minimum Value:  6 \n",
            " Smaller value than average:  [9, 19, 11, 8, 6, 17, 22]\n"
          ],
          "name": "stdout"
        },
        {
          "output_type": "execute_result",
          "data": {
            "application/vnd.google.colaboratory.intrinsic+json": {
              "type": "string"
            },
            "text/plain": [
              "'avg= total / len(list1)\\nprint(\"The average for the random list is\" , avg)\\n\\nmaxi = max(list1)\\nprint(\"Highest: \", maxi)\\n\\nmini = min(list1)\\nprint(\"Lowest: \",mini)\\n\\nfor i in list1:\\n  if i < avg :\\n    print(\"Value less than average\", i)\\n\\nfor i in list1:\\n  if i > avg :\\n    print(\"Value more than average\", i) '"
            ]
          },
          "metadata": {
            "tags": []
          },
          "execution_count": 34
        }
      ]
    },
    {
      "cell_type": "code",
      "metadata": {
        "id": "KDm9xnnJMxEf"
      },
      "source": [
        ""
      ],
      "execution_count": null,
      "outputs": []
    }
  ]
}