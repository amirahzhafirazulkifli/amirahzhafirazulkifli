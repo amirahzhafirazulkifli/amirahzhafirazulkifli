{
  "nbformat": 4,
  "nbformat_minor": 0,
  "metadata": {
    "colab": {
      "name": "Lab2.ipynb",
      "provenance": [],
      "authorship_tag": "ABX9TyMFDwTThfMxd5z/RnyCo2aE",
      "include_colab_link": true
    },
    "kernelspec": {
      "name": "python3",
      "display_name": "Python 3"
    },
    "language_info": {
      "name": "python"
    }
  },
  "cells": [
    {
      "cell_type": "markdown",
      "metadata": {
        "id": "view-in-github",
        "colab_type": "text"
      },
      "source": [
        "<a href=\"https://colab.research.google.com/github/amirahzhafirazulkifli/amirahzhafirazulkifli/blob/main/Lab2.ipynb\" target=\"_parent\"><img src=\"https://colab.research.google.com/assets/colab-badge.svg\" alt=\"Open In Colab\"/></a>"
      ]
    },
    {
      "cell_type": "code",
      "metadata": {
        "id": "Stnl8lEoIsCr"
      },
      "source": [
        "for i in range (1,11):\n",
        "  print(i)"
      ],
      "execution_count": null,
      "outputs": []
    },
    {
      "cell_type": "code",
      "metadata": {
        "id": "N0d94umlJpIC"
      },
      "source": [
        "for i in range(1,1001):\n",
        "  print(i)"
      ],
      "execution_count": null,
      "outputs": []
    },
    {
      "cell_type": "code",
      "metadata": {
        "colab": {
          "base_uri": "https://localhost:8080/",
          "height": 330
        },
        "id": "_0c7xdRhKww2",
        "outputId": "cde9f0e8-c9ac-41f1-b223-33970ea3135c"
      },
      "source": [
        "import random\n",
        "\n",
        "list1 = []\n",
        "list2 =[]\n",
        "list3 = []\n",
        "\n",
        "#function1- update list\n",
        "#function2- sum list\n",
        "#function3- find avg\n",
        "#function4 - find highest and lowest\n",
        "#funtion5 - find num smaller than avg\n",
        "\n",
        "def update (mylist):\n",
        "  for x in range(1,11):\n",
        "    mylist.append(random.randrange(1,50))\n",
        "\n",
        "def getsum (mylist):\n",
        "  return sum(mylist)\n",
        "\n",
        "def getavg (sumval,length):\n",
        "  avg=sumval/length\n",
        "  return avg\n",
        "\n",
        "def getmax (mylist):\n",
        "  return max(mylist)\n",
        "\n",
        "def getmin(mylist):\n",
        "  return min(mylist)\n",
        "\n",
        "def getsmallval(mylist, avgval):\n",
        "  return [x for x in mylist if x <avgval]\n",
        "\n",
        "print(list1)\n",
        "update(list1)\n",
        "total=getsum(list1)\n",
        "average=getavg(total,len(list1))\n",
        "maxi=getmax(list1)\n",
        "mini=getmin(list1)\n",
        "smallvalue=getsmallval(list1,average)\n",
        "print(\"List 1: \", list1,\"\\n\",\"Total:\", total,\"\\n\",\"Average: \", average,\n",
        "      \"\\n\",\"Maximum Value:\", maxi, \"\\n\", \"Minimum Value: \", mini,\n",
        "      \"\\n\", \"Smaller value than average: \" , smallvalue)\n",
        "\n",
        "print(\"\\n\")\n",
        "\n",
        "print(list2)\n",
        "update(list2)\n",
        "print(list2)\n",
        "\n",
        "print(\"\\n\")\n",
        "\n",
        "print(list3)\n",
        "update(list3)\n",
        "print(list3)\n",
        "\n",
        "\n",
        "'''total = sum(list1)\n",
        "print(total)'''\n",
        "\n",
        "'''avg= total / len(list1)\n",
        "print(\"The average for the random list is\" , avg)\n",
        "\n",
        "maxi = max(list1)\n",
        "print(\"Highest: \", maxi)\n",
        "\n",
        "mini = min(list1)\n",
        "print(\"Lowest: \",mini)\n",
        "\n",
        "for i in list1:\n",
        "  if i < avg :\n",
        "    print(\"Value less than average\", i)\n",
        "\n",
        "for i in list1:\n",
        "  if i > avg :\n",
        "    print(\"Value more than average\", i) '''"
      ],
      "execution_count": 33,
      "outputs": [
        {
          "output_type": "stream",
          "text": [
            "[]\n",
            "List 1:  [41, 12, 35, 3, 49, 4, 32, 32, 37, 24] \n",
            " Total: 269 \n",
            " Average:  26.9 \n",
            " Maximum Value: 49 \n",
            " Minimum Value:  3 \n",
            " Smaller value than average:  [12, 3, 4, 24]\n",
            "\n",
            "\n",
            "[]\n",
            "[40, 18, 39, 45, 34, 36, 47, 41, 2, 36]\n",
            "\n",
            "\n",
            "[]\n",
            "[23, 6, 39, 39, 28, 48, 36, 1, 39, 33]\n"
          ],
          "name": "stdout"
        },
        {
          "output_type": "execute_result",
          "data": {
            "application/vnd.google.colaboratory.intrinsic+json": {
              "type": "string"
            },
            "text/plain": [
              "'avg= total / len(list1)\\nprint(\"The average for the random list is\" , avg)\\n\\nmaxi = max(list1)\\nprint(\"Highest: \", maxi)\\n\\nmini = min(list1)\\nprint(\"Lowest: \",mini)\\n\\nfor i in list1:\\n  if i < avg :\\n    print(\"Value less than average\", i)\\n\\nfor i in list1:\\n  if i > avg :\\n    print(\"Value more than average\", i) '"
            ]
          },
          "metadata": {
            "tags": []
          },
          "execution_count": 33
        }
      ]
    },
    {
      "cell_type": "code",
      "metadata": {
        "id": "KDm9xnnJMxEf"
      },
      "source": [
        ""
      ],
      "execution_count": null,
      "outputs": []
    }
  ]
}