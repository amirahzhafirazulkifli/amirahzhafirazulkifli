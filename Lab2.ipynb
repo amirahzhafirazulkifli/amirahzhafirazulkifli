{
  "nbformat": 4,
  "nbformat_minor": 0,
  "metadata": {
    "colab": {
      "name": "Lab2.ipynb",
      "provenance": [],
      "authorship_tag": "ABX9TyPBUkbBnstMXMtcLc2dzwjQ",
      "include_colab_link": true
    },
    "kernelspec": {
      "name": "python3",
      "display_name": "Python 3"
    },
    "language_info": {
      "name": "python"
    }
  },
  "cells": [
    {
      "cell_type": "markdown",
      "metadata": {
        "id": "view-in-github",
        "colab_type": "text"
      },
      "source": [
        "<a href=\"https://colab.research.google.com/github/amirahzhafirazulkifli/amirahzhafirazulkifli/blob/main/Lab2.ipynb\" target=\"_parent\"><img src=\"https://colab.research.google.com/assets/colab-badge.svg\" alt=\"Open In Colab\"/></a>"
      ]
    },
    {
      "cell_type": "code",
      "metadata": {
        "id": "Stnl8lEoIsCr"
      },
      "source": [
        "for i in range (1,11):\n",
        "  print(i)"
      ],
      "execution_count": null,
      "outputs": []
    },
    {
      "cell_type": "code",
      "metadata": {
        "id": "N0d94umlJpIC"
      },
      "source": [
        "for i in range(1,1001):\n",
        "  print(i)"
      ],
      "execution_count": null,
      "outputs": []
    },
    {
      "cell_type": "code",
      "metadata": {
        "colab": {
          "base_uri": "https://localhost:8080/",
          "height": 131
        },
        "id": "_0c7xdRhKww2",
        "outputId": "c69e5981-84d2-42cd-c811-e8bce4a6bb58"
      },
      "source": [
        "import random\n",
        "\n",
        "list1 = []\n",
        "list2 =[]\n",
        "list3 = []\n",
        "\n",
        "#function1- update list\n",
        "#function2- sum list\n",
        "#function3- find avg\n",
        "#function4 - find highest and lowest\n",
        "#funtion5 - find num smaller than avg\n",
        "\n",
        "def update (mylist):\n",
        "  for x in range(1,11):\n",
        "    mylist.append(random.randrange(1,50))\n",
        "\n",
        "def getsum (mylist):\n",
        "  return sum(mylist)\n",
        "\n",
        "def getavg (sumval,length):\n",
        "  avg=sumval/length\n",
        "  return avg\n",
        "\n",
        "def getmax (mylist):\n",
        "  return max(mylist)\n",
        "\n",
        "def getmin(mylist):\n",
        "  return min(mylist)\n",
        "\n",
        "def getsmallval(mylist,avgval):\n",
        "  for x in mylist:\n",
        "    if x < avgval\n",
        "\n",
        "  return smallval\n",
        "\n",
        "print(list1)\n",
        "update(list1)\n",
        "total=getsum(list1)\n",
        "average=getavg(total,len(list1))\n",
        "maxi=getmax(list1)\n",
        "mini=getmin(list1)\n",
        "smallvalue=getsmallval(list1, average)\n",
        "print(\"List 1: \", list1,\"\\n\",\"Total:\", total,\"\\n\",\"Average: \", average,\n",
        "      \"\\n\",\"Maximum Value:\", maxi, \"\\n\", \"Minimum Value: \", mini,\n",
        "      \"\\n\", \"Smaller value than average: \" , smallvalue)\n",
        "\n",
        "print(\"\\n\")\n",
        "\n",
        "print(list2)\n",
        "update(list2)\n",
        "print(list2)\n",
        "\n",
        "print(\"\\n\")\n",
        "\n",
        "print(list3)\n",
        "update(list3)\n",
        "print(list3)\n",
        "\n",
        "\n",
        "'''total = sum(list1)\n",
        "print(total)'''\n",
        "\n",
        "'''avg= total / len(list1)\n",
        "print(\"The average for the random list is\" , avg)\n",
        "\n",
        "maxi = max(list1)\n",
        "print(\"Highest: \", maxi)\n",
        "\n",
        "mini = min(list1)\n",
        "print(\"Lowest: \",mini)\n",
        "\n",
        "for i in list1:\n",
        "  if i < avg :\n",
        "    print(\"Value less than average\", i)\n",
        "\n",
        "for i in list1:\n",
        "  if i > avg :\n",
        "    print(\"Value more than average\", i) '''"
      ],
      "execution_count": 65,
      "outputs": [
        {
          "output_type": "error",
          "ename": "SyntaxError",
          "evalue": "ignored",
          "traceback": [
            "\u001b[0;36m  File \u001b[0;32m\"<ipython-input-65-139189c5c818>\"\u001b[0;36m, line \u001b[0;32m31\u001b[0m\n\u001b[0;31m    if mylist < avgval\u001b[0m\n\u001b[0m                      ^\u001b[0m\n\u001b[0;31mSyntaxError\u001b[0m\u001b[0;31m:\u001b[0m invalid syntax\n"
          ]
        }
      ]
    },
    {
      "cell_type": "code",
      "metadata": {
        "id": "KDm9xnnJMxEf"
      },
      "source": [
        ""
      ],
      "execution_count": null,
      "outputs": []
    }
  ]
}