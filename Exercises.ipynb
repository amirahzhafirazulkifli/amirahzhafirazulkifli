{
  "nbformat": 4,
  "nbformat_minor": 0,
  "metadata": {
    "colab": {
      "name": "Exercises.ipynb",
      "provenance": [],
      "authorship_tag": "ABX9TyNhu2wtOHvQZqOISwkWiM4U",
      "include_colab_link": true
    },
    "kernelspec": {
      "name": "python3",
      "display_name": "Python 3"
    },
    "language_info": {
      "name": "python"
    }
  },
  "cells": [
    {
      "cell_type": "markdown",
      "metadata": {
        "id": "view-in-github",
        "colab_type": "text"
      },
      "source": [
        "<a href=\"https://colab.research.google.com/github/amirahzhafirazulkifli/amirahzhafirazulkifli/blob/main/Exercises.ipynb\" target=\"_parent\"><img src=\"https://colab.research.google.com/assets/colab-badge.svg\" alt=\"Open In Colab\"/></a>"
      ]
    },
    {
      "cell_type": "code",
      "metadata": {
        "id": "g5HTqPtEP6gD",
        "colab": {
          "base_uri": "https://localhost:8080/"
        },
        "outputId": "71616603-b6c5-42fd-ad5d-bca0c953ef79"
      },
      "source": [
        "'''Exercise 6: Given a number count the total number\n",
        " of digits in a number'''\n",
        "\n",
        "num=75869\n",
        "\n",
        "num1= str(num)\n",
        "lengthnum = len(num1)\n",
        "print (\"total number of digits 75869: \" , lengthnum)\n",
        "\n",
        "''' Exercise 6: Given a list of numbers, Iterate it and print only\n",
        " those numbers which are divisible of 5'''\n",
        "\n",
        "list1 = [10, 20, 33, 46, 55]\n",
        "\n",
        "def divisibleof5 (mylist):\n",
        "  for x in mylist:\n",
        "    if x % 5 == 0:\n",
        "      print (\"Numbers that divisible of 5: \", x )\n",
        "\n",
        "divisibleof5(list1)\n",
        "  "
      ],
      "execution_count": null,
      "outputs": [
        {
          "output_type": "stream",
          "text": [
            "total number of digits 75869:  5\n",
            "Numbers that divisible of 5:  10\n",
            "Numbers that divisible of 5:  20\n",
            "Numbers that divisible of 5:  55\n"
          ],
          "name": "stdout"
        }
      ]
    },
    {
      "cell_type": "code",
      "metadata": {
        "id": "azru6naU7dNh",
        "colab": {
          "base_uri": "https://localhost:8080/"
        },
        "outputId": "66060af0-24e9-44d8-f6e2-44dfa7c36cd9"
      },
      "source": [
        "'''Exercise 3: Given a string, display only those \n",
        "characters which are present at an even index number.'''\n",
        "\n",
        "str = \"pynative\"\n",
        "\n",
        "for i in range(len(str)):\n",
        "  if i % 2 == 0:\n",
        "    print(str[i])\n",
        "\n"
      ],
      "execution_count": 3,
      "outputs": [
        {
          "output_type": "stream",
          "text": [
            "p\n",
            "y\n",
            "n\n",
            "a\n",
            "t\n",
            "i\n",
            "v\n",
            "e\n"
          ],
          "name": "stdout"
        }
      ]
    },
    {
      "cell_type": "code",
      "metadata": {
        "colab": {
          "base_uri": "https://localhost:8080/"
        },
        "id": "1FaGQ44Lqlxi",
        "outputId": "bbc4bcf0-07c6-4183-bb6f-b277d2b89814"
      },
      "source": [
        "'''Exercise 7: Print the following pattern using for loop'''\n",
        "def revHalfDiamond(rows):\n",
        "  for i in range(0,rows+1):\n",
        "    for j in range(rows-i,0,-1):\n",
        "      print (j, end=\" \")\n",
        "    print()\n",
        "    \n",
        "\n",
        "revHalfDiamond(5)\n",
        "\n",
        "\n",
        "\n"
      ],
      "execution_count": 46,
      "outputs": [
        {
          "output_type": "stream",
          "text": [
            "5 4 3 2 1 \n",
            "4 3 2 1 \n",
            "3 2 1 \n",
            "2 1 \n",
            "1 \n",
            "\n"
          ],
          "name": "stdout"
        }
      ]
    },
    {
      "cell_type": "code",
      "metadata": {
        "colab": {
          "base_uri": "https://localhost:8080/"
        },
        "id": "n47aat2i6SzH",
        "outputId": "75910666-5948-4755-bc41-2c9f38b6b90d"
      },
      "source": [
        "'''Exercise 5: Count all lower case, upper case, \n",
        "digits, and special symbols from a given string'''\n",
        "\n",
        "str1 = \"P@#yn26at^&i5ve\"\n",
        "\n",
        "def count(string):\n",
        "  upper, lower, digit, symbol, char =0,0,0,0,0\n",
        "  for i in range(len(string)):\n",
        "    if string[i].isupper():\n",
        "      upper=upper+1\n",
        "    elif string[i].islower():\n",
        "      lower=lower+1\n",
        "    elif string[i].isdigit():\n",
        "      digit=digit+1 \n",
        "  \n",
        "    else:\n",
        "      symbol=symbol+1\n",
        "  \n",
        "  char= upper+lower\n",
        "\n",
        "  return upper, lower, digit, symbol, char\n",
        "\n",
        "u, l, d, s, c = count(str1)\n",
        "print(\"Upper case: \", u)\n",
        "print(\"Lower case: \", l)\n",
        "print(\"Digit: \", d)\n",
        "print(\"Symbol: \", s)\n",
        "print(\"Character: \", c)\n",
        "\n",
        "\n"
      ],
      "execution_count": 53,
      "outputs": [
        {
          "output_type": "stream",
          "text": [
            "Upper case:  1\n",
            "Lower case:  7\n",
            "Digit:  3\n",
            "Symbol:  4\n",
            "Character:  8\n"
          ],
          "name": "stdout"
        }
      ]
    },
    {
      "cell_type": "code",
      "metadata": {
        "id": "YZMCoe0MGE4h"
      },
      "source": [
        "''' Exercise 9: Given a string, return the sum and \n",
        "average of the digits that appear \n",
        "in the string, ignoring all other characters'''\n",
        "\n",
        "str1 = \"English = 78 Science = 83 Math = 68 History = 65\"\n",
        "\n",
        "def sum&avg(string):\n"
      ],
      "execution_count": null,
      "outputs": []
    },
    {
      "cell_type": "code",
      "metadata": {
        "id": "XdDNpan-JRcl"
      },
      "source": [
        "'''Exercise 1: Given two lists create a third list by \n",
        "picking an odd-index element from the first list and \n",
        "even index elements from the second.'''\n",
        "\n"
      ],
      "execution_count": null,
      "outputs": []
    },
    {
      "cell_type": "code",
      "metadata": {
        "id": "HvhIL9dGJWQi"
      },
      "source": [
        "'''Exercise 2: Given a list, remove the element at index 4 and \n",
        "add it to the 2nd position and at the end of the list'''"
      ],
      "execution_count": null,
      "outputs": []
    }
  ]
}