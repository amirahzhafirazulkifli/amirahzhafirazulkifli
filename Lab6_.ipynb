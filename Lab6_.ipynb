{
  "nbformat": 4,
  "nbformat_minor": 0,
  "metadata": {
    "colab": {
      "name": "Lab6 .ipynb",
      "provenance": [],
      "collapsed_sections": [],
      "authorship_tag": "ABX9TyPaGxPcz8S9DMgtDlFkebV5",
      "include_colab_link": true
    },
    "kernelspec": {
      "name": "python3",
      "display_name": "Python 3"
    },
    "language_info": {
      "name": "python"
    }
  },
  "cells": [
    {
      "cell_type": "markdown",
      "metadata": {
        "id": "view-in-github",
        "colab_type": "text"
      },
      "source": [
        "<a href=\"https://colab.research.google.com/github/amirahzhafirazulkifli/amirahzhafirazulkifli/blob/main/Lab6_.ipynb\" target=\"_parent\"><img src=\"https://colab.research.google.com/assets/colab-badge.svg\" alt=\"Open In Colab\"/></a>"
      ]
    },
    {
      "cell_type": "code",
      "metadata": {
        "colab": {
          "resources": {
            "http://localhost:8080/nbextensions/google.colab/files.js": {
              "data": "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",
              "ok": true,
              "headers": [
                [
                  "content-type",
                  "application/javascript"
                ]
              ],
              "status": 200,
              "status_text": ""
            }
          },
          "base_uri": "https://localhost:8080/",
          "height": 72
        },
        "id": "JS5CfuXyAWIO",
        "outputId": "93f15407-88f8-459c-a5a1-7be43845b23f"
      },
      "source": [
        "from google.colab import files\n",
        "uploaded= files.upload()\n"
      ],
      "execution_count": 90,
      "outputs": [
        {
          "output_type": "display_data",
          "data": {
            "text/html": [
              "\n",
              "     <input type=\"file\" id=\"files-b64e700e-f687-4ef3-a8a2-97b5c6082e3a\" name=\"files[]\" multiple disabled\n",
              "        style=\"border:none\" />\n",
              "     <output id=\"result-b64e700e-f687-4ef3-a8a2-97b5c6082e3a\">\n",
              "      Upload widget is only available when the cell has been executed in the\n",
              "      current browser session. Please rerun this cell to enable.\n",
              "      </output>\n",
              "      <script src=\"/nbextensions/google.colab/files.js\"></script> "
            ],
            "text/plain": [
              "<IPython.core.display.HTML object>"
            ]
          },
          "metadata": {
            "tags": []
          }
        },
        {
          "output_type": "stream",
          "text": [
            "Saving lab6-input.txt to lab6-input.txt\n"
          ],
          "name": "stdout"
        }
      ]
    },
    {
      "cell_type": "code",
      "metadata": {
        "colab": {
          "base_uri": "https://localhost:8080/"
        },
        "id": "PevQCaLlDv3P",
        "outputId": "aa37c5ee-0774-4438-b052-e5889f802c18"
      },
      "source": [
        "\n",
        "#input file content\n",
        "input_file=open('lab6-input.txt', \"r\", encoding=\"utf-8\", errors='replace')\n",
        "#input_text=pd.read_csv('try.txt') #tryanderrorfile\n",
        "print(\"File content:\\n \", input_file.read())\n",
        "\n"
      ],
      "execution_count": 86,
      "outputs": [
        {
          "output_type": "stream",
          "text": [
            "File content:\n",
            "  Employers want to see a strong aptitude for data science in their new hires, \n",
            "but this skill isn�t always easy to demonstrate in an interview. That�s \n",
            "why we�ve created an extensive series discussing the importance of data \n",
            "science and how you can increase your employability by building this skill. \n",
            "Here, you�ll learn how to build a strong data science portfolio that \n",
            "showcases your skills and helps you land that job.\n",
            "\n",
            "In the past few posts in this series, we�ve talked about how to build a data \n",
            "science project that tells a story, how to build an end to end machine learning \n",
            "project, and how to setup a data science blog. In this post, we�ll take a step \n",
            "back, and focus on your portfolio at a high level. We�ll discuss what skills \n",
            "employers want to see a candidate demonstrate, and how to build a portfolio \n",
            "that demonstrates all of those skills effectively. We�ll include examples of \n",
            "what each project in your portfolio should look like, and give you suggestions \n",
            "on how to get started.\n",
            "\n",
            "After reading this post, you should have a good understanding of why you should \n",
            "build a data science portfolio, and how to go about doing it.\n",
            "\n",
            "What Employers Look For\n",
            "When employers hire, they�re looking for someone who can add value to their business. \n",
            "Often, this means someone who has skills that can generate revenue and opportunities \n",
            "for the business. As a data scientist, you add value to a business in one of 4 main ways:\n",
            "\n",
            "Extracting insights from raw data, and presenting those insights to others.\n",
            "An example would be analyzing ad click rates, and discovering that it�s much more cost \n",
            "effective to advertise to people who are 18 to 21 then to people who are 21 to 25 � this \n",
            "adds business value by allowing the business to optimize its ad spend.\n",
            "\n",
            "Building systems that offer direct value to the customer.\n",
            "An example would be a data scientist at Facebook optimizing the news feed to show better \n",
            "results to users � this generates direct revenue for Facebook because more news feed \n",
            "engagement means more ad engagement.\n",
            "\n",
            "Building systems that offer direct value to others in the organization.\n",
            "An example would be building a script that automatically aggregates data from 3 databases \n",
            "and generates a clean dataset for others to analyze � this adds value by making it faster \n",
            "for others to do their work.\n",
            "\n",
            "Sharing your expertise with others in the organization.\n",
            "An example is chatting with a product manager about how to build a feature that requires \n",
            "machine learning algorithms � this adds value by preventing unrealistic timelines, or a \n",
            "semi-functional product.\n",
            "\n",
            "Unsurprisingly, when employers look at candidates to hire, they look at people who can \n",
            "do one or more of the four things above (the exact ones they look at depend on the company \n",
            "and role). In order to demonstrate that you can aid a business in the 4 areas listed above, \n",
            "you need to demonstrate some combination of these skills:\n",
            "\n",
            "Ability to communicate\n",
            "Ability to collaborate with others\n",
            "Technical competence\n",
            "Ability to reason about data\n",
            "Motivation and ability to take initiative\n",
            "\n",
            "A well-rounded portfolio should show off your skills in each of the above areas, and be \n",
            "relatively easy for someone to scan � each portfolio item should be well documented and \n",
            "explained, so a hiring manager is able to quickly evaluate your portfolio.\n",
            "\n",
            "\n"
          ],
          "name": "stdout"
        }
      ]
    },
    {
      "cell_type": "code",
      "metadata": {
        "colab": {
          "base_uri": "https://localhost:8080/"
        },
        "id": "N2JVoZJbSYMB",
        "outputId": "a8a6668a-9221-4b73-8d77-a5a4b68e2db3"
      },
      "source": [
        "#count total line\n",
        "input_file = open(\"lab6-input.txt\",\"r\", encoding=\"utf-8\", errors='replace')\n",
        "\n",
        "count = 0\n",
        "for line in input_file:\n",
        "    if line != \"\\n\":\n",
        "        count += 1\n",
        "input_file.close()\n",
        "\n",
        "print(\"Number of line in the input file:\" ,count)"
      ],
      "execution_count": 66,
      "outputs": [
        {
          "output_type": "stream",
          "text": [
            "Number of line in the input file: 48\n"
          ],
          "name": "stdout"
        }
      ]
    },
    {
      "cell_type": "code",
      "metadata": {
        "colab": {
          "base_uri": "https://localhost:8080/"
        },
        "id": "TThUndjoVaMi",
        "outputId": "bd8f0982-59a9-4003-baf0-4f200309b5f8"
      },
      "source": [
        "import re\n",
        "input_file = open(\"lab6-input.txt\",\"r\", encoding=\"utf-8\", errors='replace')\n",
        "\n",
        "#find and count specific word in file\n",
        "w1=\"portfolio\"\n",
        "w2=\"employer\"\n",
        "w3=\"data\"\n",
        "\n",
        "#using built in method\n",
        "#filter punctuations and changes all into lower case for easy counting\n",
        "txt=input_file.read()\n",
        "\n",
        "for char in '.,':     \n",
        "  txt=txt.replace(char,' ')\n",
        "txt = txt.lower()\n",
        "file_txt=txt.split()\n",
        "print(\"split every word: \" ,file_txt)\n",
        "i=file_txt.count(w1)\n",
        "print(\"\\ntotal portfolio word: \", i)\n",
        "\n",
        "j=file_txt.count(w2)\n",
        "print(\"\\ntotal employer word including uppercase: \", j)\n",
        "\n",
        "k=file_txt.count(w3)\n",
        "print(\"\\ntotal data word including uppercase: \", k)\n",
        "\n",
        "#using regex to find and count specific word\n",
        "x=re.findall(r\"\\bportfolio\\b\", txt, re.MULTILINE)\n",
        "print(\"\\nWord: \", x ,\"\\nTotal matches: \", len(x))\n",
        "\n",
        "y=re.findall(r\"\\bemployer\\b\", txt, re.MULTILINE)\n",
        "print(\"\\nWord: \", y ,\"\\nTotal matches: \", len(y))\n",
        "\n",
        "z=re.findall(r\"\\bdata\\b\", txt, re.MULTILINE)\n",
        "print(\"\\nWord: \", z ,\"\\nTotal matches: \", len(z))\n",
        "\n",
        "\n"
      ],
      "execution_count": 88,
      "outputs": [
        {
          "output_type": "stream",
          "text": [
            "split every word:  ['employers', 'want', 'to', 'see', 'a', 'strong', 'aptitude', 'for', 'data', 'science', 'in', 'their', 'new', 'hires', 'but', 'this', 'skill', 'isn�t', 'always', 'easy', 'to', 'demonstrate', 'in', 'an', 'interview', 'that�s', 'why', 'we�ve', 'created', 'an', 'extensive', 'series', 'discussing', 'the', 'importance', 'of', 'data', 'science', 'and', 'how', 'you', 'can', 'increase', 'your', 'employability', 'by', 'building', 'this', 'skill', 'here', 'you�ll', 'learn', 'how', 'to', 'build', 'a', 'strong', 'data', 'science', 'portfolio', 'that', 'showcases', 'your', 'skills', 'and', 'helps', 'you', 'land', 'that', 'job', 'in', 'the', 'past', 'few', 'posts', 'in', 'this', 'series', 'we�ve', 'talked', 'about', 'how', 'to', 'build', 'a', 'data', 'science', 'project', 'that', 'tells', 'a', 'story', 'how', 'to', 'build', 'an', 'end', 'to', 'end', 'machine', 'learning', 'project', 'and', 'how', 'to', 'setup', 'a', 'data', 'science', 'blog', 'in', 'this', 'post', 'we�ll', 'take', 'a', 'step', 'back', 'and', 'focus', 'on', 'your', 'portfolio', 'at', 'a', 'high', 'level', 'we�ll', 'discuss', 'what', 'skills', 'employers', 'want', 'to', 'see', 'a', 'candidate', 'demonstrate', 'and', 'how', 'to', 'build', 'a', 'portfolio', 'that', 'demonstrates', 'all', 'of', 'those', 'skills', 'effectively', 'we�ll', 'include', 'examples', 'of', 'what', 'each', 'project', 'in', 'your', 'portfolio', 'should', 'look', 'like', 'and', 'give', 'you', 'suggestions', 'on', 'how', 'to', 'get', 'started', 'after', 'reading', 'this', 'post', 'you', 'should', 'have', 'a', 'good', 'understanding', 'of', 'why', 'you', 'should', 'build', 'a', 'data', 'science', 'portfolio', 'and', 'how', 'to', 'go', 'about', 'doing', 'it', 'what', 'employers', 'look', 'for', 'when', 'employers', 'hire', 'they�re', 'looking', 'for', 'someone', 'who', 'can', 'add', 'value', 'to', 'their', 'business', 'often', 'this', 'means', 'someone', 'who', 'has', 'skills', 'that', 'can', 'generate', 'revenue', 'and', 'opportunities', 'for', 'the', 'business', 'as', 'a', 'data', 'scientist', 'you', 'add', 'value', 'to', 'a', 'business', 'in', 'one', 'of', '4', 'main', 'ways:', 'extracting', 'insights', 'from', 'raw', 'data', 'and', 'presenting', 'those', 'insights', 'to', 'others', 'an', 'example', 'would', 'be', 'analyzing', 'ad', 'click', 'rates', 'and', 'discovering', 'that', 'it�s', 'much', 'more', 'cost', 'effective', 'to', 'advertise', 'to', 'people', 'who', 'are', '18', 'to', '21', 'then', 'to', 'people', 'who', 'are', '21', 'to', '25', '�', 'this', 'adds', 'business', 'value', 'by', 'allowing', 'the', 'business', 'to', 'optimize', 'its', 'ad', 'spend', 'building', 'systems', 'that', 'offer', 'direct', 'value', 'to', 'the', 'customer', 'an', 'example', 'would', 'be', 'a', 'data', 'scientist', 'at', 'facebook', 'optimizing', 'the', 'news', 'feed', 'to', 'show', 'better', 'results', 'to', 'users', '�', 'this', 'generates', 'direct', 'revenue', 'for', 'facebook', 'because', 'more', 'news', 'feed', 'engagement', 'means', 'more', 'ad', 'engagement', 'building', 'systems', 'that', 'offer', 'direct', 'value', 'to', 'others', 'in', 'the', 'organization', 'an', 'example', 'would', 'be', 'building', 'a', 'script', 'that', 'automatically', 'aggregates', 'data', 'from', '3', 'databases', 'and', 'generates', 'a', 'clean', 'dataset', 'for', 'others', 'to', 'analyze', '�', 'this', 'adds', 'value', 'by', 'making', 'it', 'faster', 'for', 'others', 'to', 'do', 'their', 'work', 'sharing', 'your', 'expertise', 'with', 'others', 'in', 'the', 'organization', 'an', 'example', 'is', 'chatting', 'with', 'a', 'product', 'manager', 'about', 'how', 'to', 'build', 'a', 'feature', 'that', 'requires', 'machine', 'learning', 'algorithms', '�', 'this', 'adds', 'value', 'by', 'preventing', 'unrealistic', 'timelines', 'or', 'a', 'semi-functional', 'product', 'unsurprisingly', 'when', 'employers', 'look', 'at', 'candidates', 'to', 'hire', 'they', 'look', 'at', 'people', 'who', 'can', 'do', 'one', 'or', 'more', 'of', 'the', 'four', 'things', 'above', '(the', 'exact', 'ones', 'they', 'look', 'at', 'depend', 'on', 'the', 'company', 'and', 'role)', 'in', 'order', 'to', 'demonstrate', 'that', 'you', 'can', 'aid', 'a', 'business', 'in', 'the', '4', 'areas', 'listed', 'above', 'you', 'need', 'to', 'demonstrate', 'some', 'combination', 'of', 'these', 'skills:', 'ability', 'to', 'communicate', 'ability', 'to', 'collaborate', 'with', 'others', 'technical', 'competence', 'ability', 'to', 'reason', 'about', 'data', 'motivation', 'and', 'ability', 'to', 'take', 'initiative', 'a', 'well-rounded', 'portfolio', 'should', 'show', 'off', 'your', 'skills', 'in', 'each', 'of', 'the', 'above', 'areas', 'and', 'be', 'relatively', 'easy', 'for', 'someone', 'to', 'scan', '�', 'each', 'portfolio', 'item', 'should', 'be', 'well', 'documented', 'and', 'explained', 'so', 'a', 'hiring', 'manager', 'is', 'able', 'to', 'quickly', 'evaluate', 'your', 'portfolio']\n",
            "\n",
            "total portfolio word:  8\n",
            "\n",
            "total employer word including uppercase:  0\n",
            "\n",
            "total data word including uppercase:  11\n",
            "\n",
            "Word:  ['portfolio', 'portfolio', 'portfolio', 'portfolio', 'portfolio', 'portfolio', 'portfolio', 'portfolio'] \n",
            "Total matches:  8\n",
            "\n",
            "Word:  [] \n",
            "Total matches:  0\n",
            "\n",
            "Word:  ['data', 'data', 'data', 'data', 'data', 'data', 'data', 'data', 'data', 'data', 'data'] \n",
            "Total matches:  11\n"
          ],
          "name": "stdout"
        }
      ]
    }
  ]
}